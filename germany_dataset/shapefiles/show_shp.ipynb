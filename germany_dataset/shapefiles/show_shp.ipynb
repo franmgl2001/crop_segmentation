{
 "cells": [
  {
   "cell_type": "markdown",
   "metadata": {},
   "source": [
    "### Show shp the idea of this script is to show the polygons of the germany dataset.\n",
    "Creation Date: 2024-10-05"
   ]
  },
  {
   "cell_type": "code",
   "execution_count": 12,
   "metadata": {},
   "outputs": [],
   "source": [
    "import geopandas as gpd\n",
    "import matplotlib.pyplot as plt\n",
    "import folium\n",
    "\n"
   ]
  },
  {
   "cell_type": "code",
   "execution_count": 13,
   "metadata": {},
   "outputs": [],
   "source": [
    "# Replace 'path_to_shapefile.shp' with the path to your shapefile\n",
    "shapefile_path = \"../showcase/shp/fields17.shp\"\n",
    "\n",
    "# Load the shapefile\n",
    "gdf = gpd.read_file(shapefile_path)\n",
    "\n",
    "# Convert to Web Mercator projection (EPSG:3857) for basemap compatibility\n",
    "gdf = gdf.to_crs(epsg=3857)\n"
   ]
  },
  {
   "cell_type": "code",
   "execution_count": null,
   "metadata": {},
   "outputs": [],
   "source": [
    "gdf"
   ]
  },
  {
   "cell_type": "code",
   "execution_count": 16,
   "metadata": {},
   "outputs": [
    {
     "data": {
      "text/plain": [
       "<folium.features.GeoJson at 0x12d453c10>"
      ]
     },
     "execution_count": 16,
     "metadata": {},
     "output_type": "execute_result"
    }
   ],
   "source": [
    "center = [gdf.geometry.centroid.y.mean(), gdf.geometry.centroid.x.mean()]\n",
    "\n",
    "# Create a folium map centered around the GeoDataFrame\n",
    "# Create a folium map centered around the GeoDataFrame\n",
    "m = folium.Map(\n",
    "    location=center, zoom_start=12, tiles=\"Stamen Terrain\", attr=\"Stamen Terrain\"\n",
    ")\n",
    "\n",
    "# Add the GeoDataFrame to the map\n",
    "folium.GeoJson(gdf, name=\"GeoDataFrame\").add_to(m)"
   ]
  },
  {
   "cell_type": "code",
   "execution_count": 17,
   "metadata": {},
   "outputs": [],
   "source": [
    "m"
   ]
  },
  {
   "cell_type": "code",
   "execution_count": null,
   "metadata": {},
   "outputs": [],
   "source": []
  }
 ],
 "metadata": {
  "kernelspec": {
   "display_name": "research_stay",
   "language": "python",
   "name": "python3"
  },
  "language_info": {
   "codemirror_mode": {
    "name": "ipython",
    "version": 3
   },
   "file_extension": ".py",
   "mimetype": "text/x-python",
   "name": "python",
   "nbconvert_exporter": "python",
   "pygments_lexer": "ipython3",
   "version": "3.11.9"
  }
 },
 "nbformat": 4,
 "nbformat_minor": 2
}
