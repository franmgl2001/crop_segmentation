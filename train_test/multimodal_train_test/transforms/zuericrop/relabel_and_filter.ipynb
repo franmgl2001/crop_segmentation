{
 "cells": [
  {
   "cell_type": "code",
   "execution_count": 1,
   "metadata": {},
   "outputs": [],
   "source": [
    "import pandas as pd\n",
    "import numpy as np"
   ]
  },
  {
   "cell_type": "code",
   "execution_count": 2,
   "metadata": {},
   "outputs": [],
   "source": [
    "class_labels = pd.read_csv(\"class_accuracy.csv\")\n",
    "pixel_count = pd.read_csv(\"label_pixel_counts.csv\")"
   ]
  },
  {
   "cell_type": "code",
   "execution_count": null,
   "metadata": {},
   "outputs": [],
   "source": [
    "# Plot the pixel count for each class\n",
    "pixel_count.plot.bar(x='Label', y='Pixel Count', rot=0)"
   ]
  },
  {
   "cell_type": "code",
   "execution_count": 4,
   "metadata": {},
   "outputs": [],
   "source": [
    "# Merge the pixel count and the class labels\n",
    "merged = pd.merge(class_labels, pixel_count, left_on=\"GT\", right_on=\"Label\")"
   ]
  },
  {
   "cell_type": "code",
   "execution_count": 14,
   "metadata": {},
   "outputs": [],
   "source": [
    "# Group by \"4th_tier_ENG\" and create lists of pixel counts from the \"GT\" column\n",
    "grouped_gt_codes = merged.groupby(\"4th_tier_ENG\").agg(\n",
    "    GT_list=(\"GT\", list),\n",
    "    pixel_sum=(\"Pixel Count\", sum)\n",
    ").reset_index()\n",
    "\n"
   ]
  },
  {
   "cell_type": "code",
   "execution_count": null,
   "metadata": {},
   "outputs": [],
   "source": [
    "grouped_gt_codes# Which groups are above 100000 pixels?\n",
    "\n",
    "grouped_gt_codes[grouped_gt_codes[\"pixel_sum\"] > 50000] # Can you set all the pixel counts to 0 for the groups that are above 100000 pixels?\n",
    "\n",
    "# Assuming your DataFrame is named `grouped_gt_codes`\n",
    "\n",
    "# Filter rows where 'pixel_sum' is less than 50,000\n",
    "filtered_gt = grouped_gt_codes[grouped_gt_codes['pixel_sum'] > 50000].reset_index(drop=True)\n",
    "filtered_gt_list =  filtered_gt['GT_list'].tolist()\n",
    "\n",
    "# Display the filtered GT_list\n",
    "combined_gt_list = sum(filtered_gt_list, [])\n",
    "\n",
    "# Drop the pixel_sum column\n",
    "grouped_gt_codes.drop(columns=['pixel_sum'], inplace=True)\n",
    "filtered_gt[\"relabel\"] = filtered_gt.index + 1\n",
    "\n"
   ]
  },
  {
   "cell_type": "code",
   "execution_count": null,
   "metadata": {},
   "outputs": [],
   "source": [
    "grouped_gt_codes.sort_values(by=\"pixel_sum\", inplace=True)"
   ]
  },
  {
   "cell_type": "code",
   "execution_count": null,
   "metadata": {},
   "outputs": [],
   "source": [
    "filtered_gt.plot.bar(x='4th_tier_ENG', y='pixel_sum', rot=45)\n"
   ]
  },
  {
   "cell_type": "code",
   "execution_count": 31,
   "metadata": {},
   "outputs": [
    {
     "data": {
      "text/html": [
       "<div>\n",
       "<style scoped>\n",
       "    .dataframe tbody tr th:only-of-type {\n",
       "        vertical-align: middle;\n",
       "    }\n",
       "\n",
       "    .dataframe tbody tr th {\n",
       "        vertical-align: top;\n",
       "    }\n",
       "\n",
       "    .dataframe thead th {\n",
       "        text-align: right;\n",
       "    }\n",
       "</style>\n",
       "<table border=\"1\" class=\"dataframe\">\n",
       "  <thead>\n",
       "    <tr style=\"text-align: right;\">\n",
       "      <th></th>\n",
       "      <th>4th_tier_ENG</th>\n",
       "      <th>GT_list</th>\n",
       "      <th>pixel_sum</th>\n",
       "      <th>relabel</th>\n",
       "    </tr>\n",
       "  </thead>\n",
       "  <tbody>\n",
       "    <tr>\n",
       "      <th>0</th>\n",
       "      <td>Maize</td>\n",
       "      <td>[7, 15]</td>\n",
       "      <td>849603.0</td>\n",
       "      <td>1</td>\n",
       "    </tr>\n",
       "    <tr>\n",
       "      <th>1</th>\n",
       "      <td>Meadow</td>\n",
       "      <td>[58, 59, 60, 61, 62, 66, 67, 71]</td>\n",
       "      <td>3938448.0</td>\n",
       "      <td>2</td>\n",
       "    </tr>\n",
       "    <tr>\n",
       "      <th>2</th>\n",
       "      <td>Pasture</td>\n",
       "      <td>[63, 64, 65, 123]</td>\n",
       "      <td>676231.0</td>\n",
       "      <td>3</td>\n",
       "    </tr>\n",
       "    <tr>\n",
       "      <th>3</th>\n",
       "      <td>Potatoes</td>\n",
       "      <td>[18, 19]</td>\n",
       "      <td>135744.0</td>\n",
       "      <td>4</td>\n",
       "    </tr>\n",
       "    <tr>\n",
       "      <th>4</th>\n",
       "      <td>Spelt</td>\n",
       "      <td>[13]</td>\n",
       "      <td>57620.0</td>\n",
       "      <td>5</td>\n",
       "    </tr>\n",
       "    <tr>\n",
       "      <th>5</th>\n",
       "      <td>Sugar_beets</td>\n",
       "      <td>[16]</td>\n",
       "      <td>351319.0</td>\n",
       "      <td>6</td>\n",
       "    </tr>\n",
       "    <tr>\n",
       "      <th>6</th>\n",
       "      <td>Sunflowers</td>\n",
       "      <td>[23, 54]</td>\n",
       "      <td>86541.0</td>\n",
       "      <td>7</td>\n",
       "    </tr>\n",
       "    <tr>\n",
       "      <th>7</th>\n",
       "      <td>Vegetables</td>\n",
       "      <td>[34, 35, 98, 101]</td>\n",
       "      <td>232799.0</td>\n",
       "      <td>8</td>\n",
       "    </tr>\n",
       "    <tr>\n",
       "      <th>8</th>\n",
       "      <td>Vines</td>\n",
       "      <td>[74, 88, 93, 95]</td>\n",
       "      <td>68329.0</td>\n",
       "      <td>9</td>\n",
       "    </tr>\n",
       "    <tr>\n",
       "      <th>9</th>\n",
       "      <td>Wheat</td>\n",
       "      <td>[4, 6]</td>\n",
       "      <td>99174.0</td>\n",
       "      <td>10</td>\n",
       "    </tr>\n",
       "    <tr>\n",
       "      <th>10</th>\n",
       "      <td>WinterBarley</td>\n",
       "      <td>[2]</td>\n",
       "      <td>287496.0</td>\n",
       "      <td>11</td>\n",
       "    </tr>\n",
       "    <tr>\n",
       "      <th>11</th>\n",
       "      <td>WinterRapeseed</td>\n",
       "      <td>[21, 53]</td>\n",
       "      <td>264703.0</td>\n",
       "      <td>12</td>\n",
       "    </tr>\n",
       "    <tr>\n",
       "      <th>12</th>\n",
       "      <td>WinterWheat</td>\n",
       "      <td>[10]</td>\n",
       "      <td>888359.0</td>\n",
       "      <td>13</td>\n",
       "    </tr>\n",
       "    <tr>\n",
       "      <th>13</th>\n",
       "      <td>cero_labels</td>\n",
       "      <td>[1, 3, 5, 8, 9, 11, 17, 20, 22, 24, 25, 26, 27...</td>\n",
       "      <td>NaN</td>\n",
       "      <td>0</td>\n",
       "    </tr>\n",
       "    <tr>\n",
       "      <th>14</th>\n",
       "      <td>cero_labels</td>\n",
       "      <td>[1, 3, 5, 8, 9, 11, 17, 20, 22, 24, 25, 26, 27...</td>\n",
       "      <td>NaN</td>\n",
       "      <td>0</td>\n",
       "    </tr>\n",
       "  </tbody>\n",
       "</table>\n",
       "</div>"
      ],
      "text/plain": [
       "      4th_tier_ENG                                            GT_list   \n",
       "0            Maize                                            [7, 15]  \\\n",
       "1           Meadow                   [58, 59, 60, 61, 62, 66, 67, 71]   \n",
       "2          Pasture                                  [63, 64, 65, 123]   \n",
       "3         Potatoes                                           [18, 19]   \n",
       "4            Spelt                                               [13]   \n",
       "5      Sugar_beets                                               [16]   \n",
       "6       Sunflowers                                           [23, 54]   \n",
       "7       Vegetables                                  [34, 35, 98, 101]   \n",
       "8            Vines                                   [74, 88, 93, 95]   \n",
       "9            Wheat                                             [4, 6]   \n",
       "10    WinterBarley                                                [2]   \n",
       "11  WinterRapeseed                                           [21, 53]   \n",
       "12     WinterWheat                                               [10]   \n",
       "13     cero_labels  [1, 3, 5, 8, 9, 11, 17, 20, 22, 24, 25, 26, 27...   \n",
       "14     cero_labels  [1, 3, 5, 8, 9, 11, 17, 20, 22, 24, 25, 26, 27...   \n",
       "\n",
       "    pixel_sum  relabel  \n",
       "0    849603.0        1  \n",
       "1   3938448.0        2  \n",
       "2    676231.0        3  \n",
       "3    135744.0        4  \n",
       "4     57620.0        5  \n",
       "5    351319.0        6  \n",
       "6     86541.0        7  \n",
       "7    232799.0        8  \n",
       "8     68329.0        9  \n",
       "9     99174.0       10  \n",
       "10   287496.0       11  \n",
       "11   264703.0       12  \n",
       "12   888359.0       13  \n",
       "13        NaN        0  \n",
       "14        NaN        0  "
      ]
     },
     "execution_count": 31,
     "metadata": {},
     "output_type": "execute_result"
    }
   ],
   "source": [
    "filtered_gt"
   ]
  },
  {
   "cell_type": "code",
   "execution_count": 21,
   "metadata": {},
   "outputs": [],
   "source": [
    "\n",
    "# Set all the labels that are not in the combined_gt_list to 0\n",
    "cero_labels = merged[~merged['GT'].isin(combined_gt_list)]"
   ]
  },
  {
   "cell_type": "code",
   "execution_count": 22,
   "metadata": {},
   "outputs": [],
   "source": [
    "# Get the GT list of the cero_labels\n",
    "cero_labels_list = cero_labels['GT'].tolist()\n",
    "filtered_gt # Add new row with cero labels\n",
    "new_row = pd.DataFrame({'4th_tier_ENG': ['cero_labels'], 'GT_list': [cero_labels_list], 'relabel': [0]})\n",
    "\n",
    "# concat the new row to the filtered_gt\n",
    "filtered_gt = pd.concat([filtered_gt, new_row], ignore_index=True)\n",
    "\n"
   ]
  },
  {
   "cell_type": "code",
   "execution_count": 23,
   "metadata": {},
   "outputs": [],
   "source": [
    "filtered_gt.to_json(\"filtered_relabel_gt.json\", orient=\"records\")"
   ]
  },
  {
   "cell_type": "code",
   "execution_count": null,
   "metadata": {},
   "outputs": [],
   "source": [
    "# Sum all the pixel sums and then get calculate the weights\n",
    "total_pixels = filtered_gt[\"pixel_sum\"].sum()\n",
    "pixel_counts = filtered_gt[\"pixel_sum\"].values\n",
    "pixel_counts = pixel_counts[:-1]\n",
    "filtered_gt.drop(columns=[\"pixel_sum\"], inplace=True)"
   ]
  },
  {
   "cell_type": "code",
   "execution_count": null,
   "metadata": {},
   "outputs": [],
   "source": [
    "# Apply logarithmic scaling (add 1 to avoid log(0) issues)\n",
    "# Scaling factor to control the effect of log\n",
    "scaling_factor = 2.5\n",
    "\n",
    "# Apply a more complex logarithmic scaling function with a scaling factor\n",
    "class_weights = np.log((total_pixels / pixel_counts + 1) ** scaling_factor)\n",
    "\n",
    "# Normalize if necessary\n",
    "class_weights = class_weights / np.sum(class_weights) * len(pixel_counts)\n",
    "\n",
    "\n",
    "class_weights"
   ]
  },
  {
   "cell_type": "code",
   "execution_count": null,
   "metadata": {},
   "outputs": [],
   "source": []
  },
  {
   "cell_type": "code",
   "execution_count": null,
   "metadata": {},
   "outputs": [],
   "source": []
  }
 ],
 "metadata": {
  "kernelspec": {
   "display_name": "personal",
   "language": "python",
   "name": "python3"
  },
  "language_info": {
   "codemirror_mode": {
    "name": "ipython",
    "version": 3
   },
   "file_extension": ".py",
   "mimetype": "text/x-python",
   "name": "python",
   "nbconvert_exporter": "python",
   "pygments_lexer": "ipython3",
   "version": "3.8.18"
  }
 },
 "nbformat": 4,
 "nbformat_minor": 2
}
