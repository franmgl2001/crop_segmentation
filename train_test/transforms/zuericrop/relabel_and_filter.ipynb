{
 "cells": [
  {
   "cell_type": "code",
   "execution_count": 1,
   "metadata": {},
   "outputs": [],
   "source": [
    "import pandas as pd"
   ]
  },
  {
   "cell_type": "code",
   "execution_count": 2,
   "metadata": {},
   "outputs": [],
   "source": [
    "class_labels = pd.read_csv(\"class_accuracy.csv\")\n",
    "pixel_count = pd.read_csv(\"label_pixel_counts.csv\")"
   ]
  },
  {
   "cell_type": "code",
   "execution_count": 3,
   "metadata": {},
   "outputs": [],
   "source": [
    "# Merge the pixel count and the class labels\n",
    "merged = pd.merge(class_labels, pixel_count, left_on=\"GT\", right_on=\"Label\")"
   ]
  },
  {
   "cell_type": "code",
   "execution_count": 4,
   "metadata": {},
   "outputs": [],
   "source": [
    "# Group by \"4th_tier_ENG\" and create lists of pixel counts from the \"GT\" column\n",
    "grouped_gt_codes = merged.groupby(\"4th_tier_ENG\").agg(\n",
    "    GT_list=(\"GT\", list),\n",
    "    pixel_sum=(\"Pixel Count\", sum)\n",
    ").reset_index()\n",
    "\n"
   ]
  },
  {
   "cell_type": "code",
   "execution_count": 5,
   "metadata": {},
   "outputs": [],
   "source": [
    "grouped_gt_codes# Which groups are above 100000 pixels?\n",
    "\n",
    "grouped_gt_codes[grouped_gt_codes[\"pixel_sum\"] > 50000] # Can you set all the pixel counts to 0 for the groups that are above 100000 pixels?\n",
    "\n",
    "# Assuming your DataFrame is named `grouped_gt_codes`\n",
    "\n",
    "# Filter rows where 'pixel_sum' is less than 50,000\n",
    "filtered_gt = grouped_gt_codes[grouped_gt_codes['pixel_sum'] > 50000].reset_index(drop=True)\n",
    "filtered_gt_list =  filtered_gt['GT_list'].tolist()\n",
    "\n",
    "# Display the filtered GT_list\n",
    "combined_gt_list = sum(filtered_gt_list, [])\n",
    "\n",
    "# Drop the pixel_sum column\n",
    "grouped_gt_codes.drop(columns=['pixel_sum'], inplace=True)\n",
    "filtered_gt[\"relabel\"] = filtered_gt.index + 1\n",
    "\n",
    "filtered_gt.drop(columns=['pixel_sum'], inplace=True)"
   ]
  },
  {
   "cell_type": "code",
   "execution_count": 6,
   "metadata": {},
   "outputs": [],
   "source": [
    "# Set all the labels that are not in the combined_gt_list to 0\n",
    "cero_labels = merged[~merged['GT'].isin(combined_gt_list)]"
   ]
  },
  {
   "cell_type": "code",
   "execution_count": 7,
   "metadata": {},
   "outputs": [],
   "source": [
    "# Get the GT list of the cero_labels\n",
    "cero_labels_list = cero_labels['GT'].tolist()\n",
    "filtered_gt # Add new row with cero labels\n",
    "new_row = pd.DataFrame({'4th_tier_ENG': ['cero_labels'], 'GT_list': [cero_labels_list], 'relabel': [0]})\n",
    "\n",
    "# concat the new row to the filtered_gt\n",
    "filtered_gt = pd.concat([filtered_gt, new_row], ignore_index=True)\n",
    "\n"
   ]
  },
  {
   "cell_type": "code",
   "execution_count": 10,
   "metadata": {},
   "outputs": [
    {
     "data": {
      "text/html": [
       "<div>\n",
       "<style scoped>\n",
       "    .dataframe tbody tr th:only-of-type {\n",
       "        vertical-align: middle;\n",
       "    }\n",
       "\n",
       "    .dataframe tbody tr th {\n",
       "        vertical-align: top;\n",
       "    }\n",
       "\n",
       "    .dataframe thead th {\n",
       "        text-align: right;\n",
       "    }\n",
       "</style>\n",
       "<table border=\"1\" class=\"dataframe\">\n",
       "  <thead>\n",
       "    <tr style=\"text-align: right;\">\n",
       "      <th></th>\n",
       "      <th>4th_tier_ENG</th>\n",
       "      <th>GT_list</th>\n",
       "      <th>relabel</th>\n",
       "    </tr>\n",
       "  </thead>\n",
       "  <tbody>\n",
       "    <tr>\n",
       "      <th>0</th>\n",
       "      <td>Maize</td>\n",
       "      <td>[7, 15]</td>\n",
       "      <td>1</td>\n",
       "    </tr>\n",
       "    <tr>\n",
       "      <th>1</th>\n",
       "      <td>Meadow</td>\n",
       "      <td>[58, 59, 60, 61, 62, 66, 67, 71]</td>\n",
       "      <td>2</td>\n",
       "    </tr>\n",
       "    <tr>\n",
       "      <th>2</th>\n",
       "      <td>Pasture</td>\n",
       "      <td>[63, 64, 65, 123]</td>\n",
       "      <td>3</td>\n",
       "    </tr>\n",
       "    <tr>\n",
       "      <th>3</th>\n",
       "      <td>Potatoes</td>\n",
       "      <td>[18, 19]</td>\n",
       "      <td>4</td>\n",
       "    </tr>\n",
       "    <tr>\n",
       "      <th>4</th>\n",
       "      <td>Spelt</td>\n",
       "      <td>[13]</td>\n",
       "      <td>5</td>\n",
       "    </tr>\n",
       "    <tr>\n",
       "      <th>5</th>\n",
       "      <td>Sugar_beets</td>\n",
       "      <td>[16]</td>\n",
       "      <td>6</td>\n",
       "    </tr>\n",
       "    <tr>\n",
       "      <th>6</th>\n",
       "      <td>Sunflowers</td>\n",
       "      <td>[23, 54]</td>\n",
       "      <td>7</td>\n",
       "    </tr>\n",
       "    <tr>\n",
       "      <th>7</th>\n",
       "      <td>Vegetables</td>\n",
       "      <td>[34, 35, 98, 101]</td>\n",
       "      <td>8</td>\n",
       "    </tr>\n",
       "    <tr>\n",
       "      <th>8</th>\n",
       "      <td>Vines</td>\n",
       "      <td>[74, 88, 93, 95]</td>\n",
       "      <td>9</td>\n",
       "    </tr>\n",
       "    <tr>\n",
       "      <th>9</th>\n",
       "      <td>Wheat</td>\n",
       "      <td>[4, 6]</td>\n",
       "      <td>10</td>\n",
       "    </tr>\n",
       "    <tr>\n",
       "      <th>10</th>\n",
       "      <td>WinterBarley</td>\n",
       "      <td>[2]</td>\n",
       "      <td>11</td>\n",
       "    </tr>\n",
       "    <tr>\n",
       "      <th>11</th>\n",
       "      <td>WinterRapeseed</td>\n",
       "      <td>[21, 53]</td>\n",
       "      <td>12</td>\n",
       "    </tr>\n",
       "    <tr>\n",
       "      <th>12</th>\n",
       "      <td>WinterWheat</td>\n",
       "      <td>[10]</td>\n",
       "      <td>13</td>\n",
       "    </tr>\n",
       "    <tr>\n",
       "      <th>13</th>\n",
       "      <td>cero_labels</td>\n",
       "      <td>[1, 3, 5, 8, 9, 11, 17, 20, 22, 24, 25, 26, 27...</td>\n",
       "      <td>0</td>\n",
       "    </tr>\n",
       "  </tbody>\n",
       "</table>\n",
       "</div>"
      ],
      "text/plain": [
       "      4th_tier_ENG                                            GT_list  relabel\n",
       "0            Maize                                            [7, 15]        1\n",
       "1           Meadow                   [58, 59, 60, 61, 62, 66, 67, 71]        2\n",
       "2          Pasture                                  [63, 64, 65, 123]        3\n",
       "3         Potatoes                                           [18, 19]        4\n",
       "4            Spelt                                               [13]        5\n",
       "5      Sugar_beets                                               [16]        6\n",
       "6       Sunflowers                                           [23, 54]        7\n",
       "7       Vegetables                                  [34, 35, 98, 101]        8\n",
       "8            Vines                                   [74, 88, 93, 95]        9\n",
       "9            Wheat                                             [4, 6]       10\n",
       "10    WinterBarley                                                [2]       11\n",
       "11  WinterRapeseed                                           [21, 53]       12\n",
       "12     WinterWheat                                               [10]       13\n",
       "13     cero_labels  [1, 3, 5, 8, 9, 11, 17, 20, 22, 24, 25, 26, 27...        0"
      ]
     },
     "execution_count": 10,
     "metadata": {},
     "output_type": "execute_result"
    }
   ],
   "source": [
    "filtered_gt"
   ]
  },
  {
   "cell_type": "code",
   "execution_count": 9,
   "metadata": {},
   "outputs": [],
   "source": [
    "filtered_gt.to_json(\"filtered_relabel_gt.json\", orient=\"records\")"
   ]
  },
  {
   "cell_type": "code",
   "execution_count": 107,
   "metadata": {},
   "outputs": [
    {
     "data": {
      "text/plain": [
       "85"
      ]
     },
     "execution_count": 107,
     "metadata": {},
     "output_type": "execute_result"
    }
   ],
   "source": [
    "# Add a row that is the cero_label\n",
    "len(cero_labels_list)"
   ]
  },
  {
   "cell_type": "code",
   "execution_count": null,
   "metadata": {},
   "outputs": [],
   "source": []
  }
 ],
 "metadata": {
  "kernelspec": {
   "display_name": "personal",
   "language": "python",
   "name": "python3"
  },
  "language_info": {
   "codemirror_mode": {
    "name": "ipython",
    "version": 3
   },
   "file_extension": ".py",
   "mimetype": "text/x-python",
   "name": "python",
   "nbconvert_exporter": "python",
   "pygments_lexer": "ipython3",
   "version": "3.8.18"
  }
 },
 "nbformat": 4,
 "nbformat_minor": 2
}
