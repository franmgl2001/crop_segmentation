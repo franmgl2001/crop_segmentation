{
 "cells": [
  {
   "cell_type": "code",
   "execution_count": 1,
   "metadata": {},
   "outputs": [],
   "source": [
    "import pandas as pd"
   ]
  },
  {
   "cell_type": "code",
   "execution_count": 2,
   "metadata": {},
   "outputs": [],
   "source": [
    "class_labels = pd.read_csv(\"class_accuracy.csv\")\n",
    "pixel_count = pd.read_csv(\"label_pixel_counts.csv\")"
   ]
  },
  {
   "cell_type": "code",
   "execution_count": 3,
   "metadata": {},
   "outputs": [],
   "source": [
    "# Merge the pixel count and the class labels\n",
    "merged = pd.merge(class_labels, pixel_count, left_on=\"GT\", right_on=\"Label\")"
   ]
  },
  {
   "cell_type": "code",
   "execution_count": 4,
   "metadata": {},
   "outputs": [],
   "source": [
    "# Group by \"4th_tier_ENG\" and create lists of pixel counts from the \"GT\" column\n",
    "grouped_gt_codes = merged.groupby(\"4th_tier_ENG\").agg(\n",
    "    GT_list=(\"GT\", list),\n",
    "    pixel_sum=(\"Pixel Count\", sum)\n",
    ").reset_index()\n",
    "\n"
   ]
  },
  {
   "cell_type": "code",
   "execution_count": 5,
   "metadata": {},
   "outputs": [],
   "source": [
    "grouped_gt_codes# Which groups are above 100000 pixels?\n",
    "\n",
    "grouped_gt_codes[grouped_gt_codes[\"pixel_sum\"] > 50000] # Can you set all the pixel counts to 0 for the groups that are above 100000 pixels?\n",
    "\n",
    "# Assuming your DataFrame is named `grouped_gt_codes`\n",
    "\n",
    "# Filter rows where 'pixel_sum' is less than 50,000\n",
    "filtered_gt = grouped_gt_codes[grouped_gt_codes['pixel_sum'] > 50000].reset_index(drop=True)\n",
    "filtered_gt_list =  filtered_gt['GT_list'].tolist()\n",
    "\n",
    "# Display the filtered GT_list\n",
    "combined_gt_list = sum(filtered_gt_list, [])\n",
    "\n",
    "# Drop the pixel_sum column\n",
    "grouped_gt_codes.drop(columns=['pixel_sum'], inplace=True)\n",
    "filtered_gt[\"relabel\"] = filtered_gt.index + 1\n",
    "\n",
    "filtered_gt.drop(columns=['pixel_sum'], inplace=True)"
   ]
  },
  {
   "cell_type": "code",
   "execution_count": 6,
   "metadata": {},
   "outputs": [],
   "source": [
    "# Set all the labels that are not in the combined_gt_list to 0\n",
    "cero_labels = merged[~merged['GT'].isin(combined_gt_list)]"
   ]
  },
  {
   "cell_type": "code",
   "execution_count": 8,
   "metadata": {},
   "outputs": [],
   "source": [
    "# Get the GT list of the cero_labels\n",
    "cero_labels_list = cero_labels['GT'].tolist()\n",
    "filtered_gt # Add new row with cero labels\n",
    "new_row = pd.DataFrame({'4th_tier_ENG': ['cero_labels'], 'GT_list': [cero_labels_list], 'relabel': [0]})\n",
    "\n",
    "# concat the new row to the filtered_gt\n",
    "filtered_gt = pd.concat([filtered_gt, new_row], ignore_index=True)\n",
    "\n"
   ]
  },
  {
   "cell_type": "code",
   "execution_count": 9,
   "metadata": {},
   "outputs": [],
   "source": [
    "filtered_gt.to_json(\"filtered_relabel_gt.json\", orient=\"records\")"
   ]
  },
  {
   "cell_type": "code",
   "execution_count": 107,
   "metadata": {},
   "outputs": [
    {
     "data": {
      "text/plain": [
       "85"
      ]
     },
     "execution_count": 107,
     "metadata": {},
     "output_type": "execute_result"
    }
   ],
   "source": [
    "# Add a row that is the cero_label\n",
    "len(cero_labels_list)"
   ]
  },
  {
   "cell_type": "code",
   "execution_count": null,
   "metadata": {},
   "outputs": [],
   "source": []
  }
 ],
 "metadata": {
  "kernelspec": {
   "display_name": "personal",
   "language": "python",
   "name": "python3"
  },
  "language_info": {
   "codemirror_mode": {
    "name": "ipython",
    "version": 3
   },
   "file_extension": ".py",
   "mimetype": "text/x-python",
   "name": "python",
   "nbconvert_exporter": "python",
   "pygments_lexer": "ipython3",
   "version": "3.8.18"
  }
 },
 "nbformat": 4,
 "nbformat_minor": 2
}
