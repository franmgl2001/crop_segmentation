{
 "cells": [
  {
   "cell_type": "code",
   "execution_count": 28,
   "metadata": {},
   "outputs": [],
   "source": [
    "import pandas as pd\n",
    "import numpy as np"
   ]
  },
  {
   "cell_type": "code",
   "execution_count": 29,
   "metadata": {},
   "outputs": [],
   "source": [
    "class_labels = pd.read_csv(\"class_accuracy.csv\")\n",
    "pixel_count = pd.read_csv(\"label_pixel_counts.csv\")"
   ]
  },
  {
   "cell_type": "code",
   "execution_count": 30,
   "metadata": {},
   "outputs": [],
   "source": [
    "pixel_count.sort_values(by=\"Pixel Count\", inplace=True)"
   ]
  },
  {
   "cell_type": "code",
   "execution_count": 31,
   "metadata": {},
   "outputs": [],
   "source": [
    "# Relabel all the classes to 0, and except classes 60,10,58,15\n",
    "class_labels[\"relabel\"] = 0\n",
    "class_labels.loc[class_labels[\"GT\"].isin([60,10,58,15]), \"relabel\"] = class_labels[\"GT\"]"
   ]
  },
  {
   "cell_type": "code",
   "execution_count": 32,
   "metadata": {},
   "outputs": [],
   "source": [
    "# Merge the pixel count and the class labels\n",
    "merged = pd.merge(class_labels, pixel_count, left_on=\"GT\", right_on=\"Label\")"
   ]
  },
  {
   "cell_type": "code",
   "execution_count": 35,
   "metadata": {},
   "outputs": [
    {
     "data": {
      "text/html": [
       "<div>\n",
       "<style scoped>\n",
       "    .dataframe tbody tr th:only-of-type {\n",
       "        vertical-align: middle;\n",
       "    }\n",
       "\n",
       "    .dataframe tbody tr th {\n",
       "        vertical-align: top;\n",
       "    }\n",
       "\n",
       "    .dataframe thead th {\n",
       "        text-align: right;\n",
       "    }\n",
       "</style>\n",
       "<table border=\"1\" class=\"dataframe\">\n",
       "  <thead>\n",
       "    <tr style=\"text-align: right;\">\n",
       "      <th></th>\n",
       "      <th>Unnamed: 0</th>\n",
       "      <th>GT</th>\n",
       "      <th>LNF_code</th>\n",
       "      <th>raw_DE</th>\n",
       "      <th>raw_ENG</th>\n",
       "      <th>1st_tier</th>\n",
       "      <th>2nd_tier</th>\n",
       "      <th>3rd_tier</th>\n",
       "      <th>4th_tier_ENG</th>\n",
       "      <th>empty</th>\n",
       "      <th>Accuracy (%)</th>\n",
       "      <th>Relabel</th>\n",
       "      <th>Label</th>\n",
       "      <th>Pixel Count</th>\n",
       "    </tr>\n",
       "  </thead>\n",
       "  <tbody>\n",
       "    <tr>\n",
       "      <th>0</th>\n",
       "      <td>0</td>\n",
       "      <td>1</td>\n",
       "      <td>501</td>\n",
       "      <td>Sommergerste</td>\n",
       "      <td>summer barley</td>\n",
       "      <td>Vegetation</td>\n",
       "      <td>Field crops</td>\n",
       "      <td>SmallGrainCereal</td>\n",
       "      <td>SummerBarley</td>\n",
       "      <td>NaN</td>\n",
       "      <td>0.00</td>\n",
       "      <td>0</td>\n",
       "      <td>1</td>\n",
       "      <td>4173</td>\n",
       "    </tr>\n",
       "    <tr>\n",
       "      <th>1</th>\n",
       "      <td>1</td>\n",
       "      <td>2</td>\n",
       "      <td>502</td>\n",
       "      <td>Wintergerste</td>\n",
       "      <td>Winter barley</td>\n",
       "      <td>Vegetation</td>\n",
       "      <td>Field crops</td>\n",
       "      <td>SmallGrainCereal</td>\n",
       "      <td>WinterBarley</td>\n",
       "      <td>NaN</td>\n",
       "      <td>90.65</td>\n",
       "      <td>0</td>\n",
       "      <td>2</td>\n",
       "      <td>287496</td>\n",
       "    </tr>\n",
       "    <tr>\n",
       "      <th>2</th>\n",
       "      <td>2</td>\n",
       "      <td>3</td>\n",
       "      <td>504</td>\n",
       "      <td>Hafer</td>\n",
       "      <td>oats</td>\n",
       "      <td>Vegetation</td>\n",
       "      <td>Field crops</td>\n",
       "      <td>SmallGrainCereal</td>\n",
       "      <td>Oat</td>\n",
       "      <td>NaN</td>\n",
       "      <td>0.76</td>\n",
       "      <td>0</td>\n",
       "      <td>3</td>\n",
       "      <td>16965</td>\n",
       "    </tr>\n",
       "    <tr>\n",
       "      <th>3</th>\n",
       "      <td>3</td>\n",
       "      <td>4</td>\n",
       "      <td>505</td>\n",
       "      <td>Triticale</td>\n",
       "      <td>triticale</td>\n",
       "      <td>Vegetation</td>\n",
       "      <td>Field crops</td>\n",
       "      <td>SmallGrainCereal</td>\n",
       "      <td>Wheat</td>\n",
       "      <td>NaN</td>\n",
       "      <td>17.29</td>\n",
       "      <td>0</td>\n",
       "      <td>4</td>\n",
       "      <td>53382</td>\n",
       "    </tr>\n",
       "    <tr>\n",
       "      <th>4</th>\n",
       "      <td>4</td>\n",
       "      <td>5</td>\n",
       "      <td>506</td>\n",
       "      <td>Mischel Futtergetreide</td>\n",
       "      <td>mixed fodder cereals</td>\n",
       "      <td>Vegetation</td>\n",
       "      <td>Field crops</td>\n",
       "      <td>SmallGrainCereal</td>\n",
       "      <td>Grain</td>\n",
       "      <td>NaN</td>\n",
       "      <td>0.00</td>\n",
       "      <td>0</td>\n",
       "      <td>5</td>\n",
       "      <td>2031</td>\n",
       "    </tr>\n",
       "  </tbody>\n",
       "</table>\n",
       "</div>"
      ],
      "text/plain": [
       "   Unnamed: 0  GT  LNF_code                  raw_DE               raw_ENG   \n",
       "0           0   1       501            Sommergerste         summer barley  \\\n",
       "1           1   2       502            Wintergerste         Winter barley   \n",
       "2           2   3       504                   Hafer                  oats   \n",
       "3           3   4       505               Triticale             triticale   \n",
       "4           4   5       506  Mischel Futtergetreide  mixed fodder cereals   \n",
       "\n",
       "     1st_tier     2nd_tier          3rd_tier  4th_tier_ENG  empty   \n",
       "0  Vegetation  Field crops  SmallGrainCereal  SummerBarley    NaN  \\\n",
       "1  Vegetation  Field crops  SmallGrainCereal  WinterBarley    NaN   \n",
       "2  Vegetation  Field crops  SmallGrainCereal           Oat    NaN   \n",
       "3  Vegetation  Field crops  SmallGrainCereal         Wheat    NaN   \n",
       "4  Vegetation  Field crops  SmallGrainCereal         Grain    NaN   \n",
       "\n",
       "   Accuracy (%)  Relabel  Label  Pixel Count  \n",
       "0          0.00        0      1         4173  \n",
       "1         90.65        0      2       287496  \n",
       "2          0.76        0      3        16965  \n",
       "3         17.29        0      4        53382  \n",
       "4          0.00        0      5         2031  "
      ]
     },
     "execution_count": 35,
     "metadata": {},
     "output_type": "execute_result"
    }
   ],
   "source": [
    "merged.head()"
   ]
  },
  {
   "cell_type": "code",
   "execution_count": 36,
   "metadata": {},
   "outputs": [],
   "source": [
    "# Group by \"4th_tier_ENG\" and create lists of pixel counts from the \"GT\" column\n",
    "grouped_gt_codes = merged.groupby(\"relabel\").agg(\n",
    "    GT_list=(\"GT\", list),\n",
    "    pixel_sum=(\"Pixel Count\", sum)\n",
    ").reset_index()\n",
    "\n"
   ]
  },
  {
   "cell_type": "code",
   "execution_count": 41,
   "metadata": {},
   "outputs": [],
   "source": [
    "grouped_gt_codes[\"relabel\"] = grouped_gt_codes.index"
   ]
  },
  {
   "cell_type": "code",
   "execution_count": 44,
   "metadata": {},
   "outputs": [],
   "source": [
    "grouped_gt_codes.to_json(\"Same_pixel.json\", orient=\"records\")"
   ]
  },
  {
   "cell_type": "code",
   "execution_count": null,
   "metadata": {},
   "outputs": [],
   "source": []
  }
 ],
 "metadata": {
  "kernelspec": {
   "display_name": "personal",
   "language": "python",
   "name": "python3"
  },
  "language_info": {
   "codemirror_mode": {
    "name": "ipython",
    "version": 3
   },
   "file_extension": ".py",
   "mimetype": "text/x-python",
   "name": "python",
   "nbconvert_exporter": "python",
   "pygments_lexer": "ipython3",
   "version": "3.8.18"
  }
 },
 "nbformat": 4,
 "nbformat_minor": 2
}
