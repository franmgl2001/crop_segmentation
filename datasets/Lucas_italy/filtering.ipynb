{
 "cells": [
  {
   "cell_type": "markdown",
   "metadata": {},
   "source": [
    "### import libraries"
   ]
  },
  {
   "cell_type": "code",
   "execution_count": 2,
   "metadata": {},
   "outputs": [],
   "source": [
    "import geopandas as gpd\n",
    "from shapely.geometry import box, Polygon, MultiPolygon\n"
   ]
  },
  {
   "cell_type": "markdown",
   "metadata": {},
   "source": [
    "### Read files\n",
    "- Read gpkg Lucas survey to get the poligons\n",
    "- Dataset https://data.jrc.ec.europa.eu/dataset/e3fe3cd0-44db-470e-8769-172a8b9e8874#dataaccess"
   ]
  },
  {
   "cell_type": "code",
   "execution_count": 6,
   "metadata": {},
   "outputs": [],
   "source": [
    "gdf = gpd.read_file(\"dataset/l2022_survey_cop_radpoly_attr.gpkg\")"
   ]
  },
  {
   "cell_type": "code",
   "execution_count": null,
   "metadata": {},
   "outputs": [],
   "source": [
    "# Convert to kml first ro\n",
    "\n",
    "gdf[gdf[\"point_id\"] == 47081563].to_file(\"test.kml\", driver=\"KML\")"
   ]
  },
  {
   "cell_type": "markdown",
   "metadata": {},
   "source": [
    "### Filter agriculutral data\n",
    "- Filter the U111 agricultural data found n dataset documentation"
   ]
  },
  {
   "cell_type": "code",
   "execution_count": null,
   "metadata": {},
   "outputs": [],
   "source": [
    "agri = gdf[gdf[\"lu1_code\"] == \"U111\"]"
   ]
  },
  {
   "cell_type": "code",
   "execution_count": null,
   "metadata": {},
   "outputs": [],
   "source": [
    "# Override the existing CRS (force setting without transformation)\n",
    "#agri.set_crs(epsg=32633, allow_override=True, inplace=True)\n",
    "\n",
    "\n",
    "# Convert to a different CRS, e.g., WGS84 (EPSG:4326) - Latitude/Longitude\n",
    "agri = agri.to_crs(epsg=4326)"
   ]
  },
  {
   "cell_type": "markdown",
   "metadata": {},
   "source": [
    "### Get la Italy region"
   ]
  },
  {
   "cell_type": "code",
   "execution_count": null,
   "metadata": {},
   "outputs": [],
   "source": [
    "world = gpd.read_file(\n",
    "    \"politcal_reference/ne_110m_admin_0_countries/ne_110m_admin_0_countries.shp\"\n",
    ")\n",
    "italy = world[world[\"NAME\"] == \"Italy\"]\n",
    "\n",
    "if agri.crs != italy.crs:\n",
    "    agri = agri.to_crs(italy.crs)\n"
   ]
  },
  {
   "cell_type": "code",
   "execution_count": null,
   "metadata": {},
   "outputs": [],
   "source": [
    "agri_italy = gpd.sjoin(agri, italy, how=\"inner\", predicate=\"intersects\")"
   ]
  },
  {
   "cell_type": "markdown",
   "metadata": {},
   "source": [
    "### Get Tuscany region\n",
    "- Still working on it."
   ]
  },
  {
   "cell_type": "code",
   "execution_count": null,
   "metadata": {},
   "outputs": [],
   "source": [
    "italy = gpd.read_file(\n",
    "    \"politcal_reference/italy_political_regions/Com01012019_WGS84.shp\"\n",
    ")\n",
    "tuscanny = italy[italy[\"COD_REG\"] == 9]"
   ]
  },
  {
   "cell_type": "code",
   "execution_count": null,
   "metadata": {},
   "outputs": [],
   "source": [
    "tuscanny = tuscanny.to_crs(epsg=4326)"
   ]
  },
  {
   "cell_type": "code",
   "execution_count": null,
   "metadata": {},
   "outputs": [],
   "source": [
    "# Find all the poligons that intersect with any tuscanny municipality\n",
    "if 'index_right' in agri_italy.columns:\n",
    "    agri_italy = agri_italy.rename(columns={'index_right': 'agri_index_right'})\n",
    "\n",
    "if 'index_right' in tuscanny.columns:\n",
    "    tuscanny = tuscanny.rename(columns={'index_right': 'tuscanny_index_right'})\n",
    "\n",
    "agri_tuscanny = gpd.sjoin(agri_italy, tuscanny, how=\"inner\", predicate=\"intersects\")"
   ]
  },
  {
   "cell_type": "markdown",
   "metadata": {},
   "source": [
    "### Export poligons"
   ]
  },
  {
   "cell_type": "code",
   "execution_count": null,
   "metadata": {},
   "outputs": [],
   "source": [
    "agri.to_file(\"dataset/l2022_survey_agri.gpkg\", driver=\"GPKG\")\n",
    "agri_italy.to_file(\"dataset/l2022_survey_agri_italy.gpkg\", driver=\"GPKG\")\n",
    "agri_tuscanny.to_file(\"dataset/l2022_survey_agri_toscana.gpkg\", driver=\"GPKG\")"
   ]
  },
  {
   "cell_type": "markdown",
   "metadata": {},
   "source": [
    "### Put the poligons on map."
   ]
  },
  {
   "cell_type": "code",
   "execution_count": null,
   "metadata": {},
   "outputs": [],
   "source": [
    "import geopandas as gpd\n",
    "import folium\n",
    "\n",
    "# Assuming 'agri' is your GeoDataFrame with polygons\n",
    "# Convert the CRS to EPSG:4326 for folium compatibility\n",
    "italy_agri = agri_italy.to_crs(epsg=4326)\n",
    "\n",
    "count = 0\n",
    "# Create a base map centered around the centroid of the polygons\n",
    "m = folium.Map(\n",
    "    location=[\n",
    "        italy_agri.geometry.centroid.y.mean(),\n",
    "        agri.geometry.centroid.x.mean(),\n",
    "    ],\n",
    "    zoom_start=12,\n",
    ")\n",
    "\n",
    "# Add polygons to the map\n",
    "for _, row in italy_agri.iterrows():\n",
    "    print(count)\n",
    "    count += 1\n",
    "    # Convert each geometry to a GeoJSON format for Folium\n",
    "    geo_json = folium.GeoJson(row['geometry'],\n",
    "                              style_function=lambda x: {\n",
    "                                  'fillColor': row['col_hex'],  # The fill color of the polygon\n",
    "                                  'color': 'black',  # The border color of the polygon\n",
    "                                  'weight': 3,  # The thickness of the border\n",
    "                                  'fillOpacity': 0.8  # Opacity of the fill color\n",
    "                              })\n",
    "    geo_json.add_to(m)\n",
    "\n",
    "# Display the map\n",
    "m.save('agri_polygons_map.html')"
   ]
  },
  {
   "cell_type": "code",
   "execution_count": null,
   "metadata": {},
   "outputs": [],
   "source": []
  }
 ],
 "metadata": {
  "kernelspec": {
   "display_name": "crops",
   "language": "python",
   "name": "python3"
  },
  "language_info": {
   "codemirror_mode": {
    "name": "ipython",
    "version": 3
   },
   "file_extension": ".py",
   "mimetype": "text/x-python",
   "name": "python",
   "nbconvert_exporter": "python",
   "pygments_lexer": "ipython3",
   "version": "3.9.6"
  }
 },
 "nbformat": 4,
 "nbformat_minor": 2
}
