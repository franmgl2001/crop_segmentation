{
 "cells": [
  {
   "cell_type": "markdown",
   "metadata": {},
   "source": [
    "### import libraries"
   ]
  },
  {
   "cell_type": "code",
   "execution_count": null,
   "metadata": {},
   "outputs": [],
   "source": [
    "import geopandas as gpd\n",
    "from shapely.geometry import box, Polygon, MultiPolygon\n"
   ]
  },
  {
   "cell_type": "markdown",
   "metadata": {},
   "source": [
    "### Read files\n",
    "- Read gpkg Lucas survey to get the poligons\n",
    "- Dataset https://data.jrc.ec.europa.eu/dataset/e3fe3cd0-44db-470e-8769-172a8b9e8874#dataaccess"
   ]
  },
  {
   "cell_type": "code",
   "execution_count": null,
   "metadata": {},
   "outputs": [],
   "source": [
    "gdf = gpd.read_file(\"dataset/l2022_survey_cop_radpoly_attr.gpkg\")"
   ]
  },
  {
   "cell_type": "markdown",
   "metadata": {},
   "source": [
    "### Filter agriculutral data\n",
    "- Filter the U111 agricultural data found n dataset documentation"
   ]
  },
  {
   "cell_type": "code",
   "execution_count": null,
   "metadata": {},
   "outputs": [],
   "source": [
    "agri = gdf[gdf[\"lu1_code\"] == \"U111\"]"
   ]
  },
  {
   "cell_type": "code",
   "execution_count": null,
   "metadata": {},
   "outputs": [],
   "source": [
    "# Override the existing CRS (force setting without transformation)\n",
    "agri.set_crs(epsg=32633, allow_override=True, inplace=True)\n",
    "\n",
    "# Convert to a different CRS, e.g., WGS84 (EPSG:4326) - Latitude/Longitude\n",
    "agri = agri.to_crs(epsg=4326)"
   ]
  },
  {
   "cell_type": "markdown",
   "metadata": {},
   "source": [
    "### Get la toscana region"
   ]
  },
  {
   "cell_type": "code",
   "execution_count": null,
   "metadata": {},
   "outputs": [],
   "source": [
    "# Define a function to reverse the coordinates of the polygons\n",
    "def reverse_coordinates(geom):\n",
    "    if geom.is_empty:\n",
    "        return geom\n",
    "    elif geom.geom_type == 'Polygon':\n",
    "        return Polygon([(y, x) for x, y in geom.exterior.coords])\n",
    "    elif geom.geom_type == 'MultiPolygon':\n",
    "        return MultiPolygon([Polygon([(y, x) for x, y in poly.exterior.coords]) for poly in geom.geoms])\n",
    "    else:\n",
    "        raise ValueError(\"Geometry type not supported\")\n",
    "\n",
    "# Apply the coordinate reversal to the GeoDataFrame\n",
    "agri['geometry'] = agri['geometry'].apply(reverse_coordinates)"
   ]
  },
  {
   "cell_type": "code",
   "execution_count": null,
   "metadata": {},
   "outputs": [],
   "source": [
    "toscana_bounding_box = box(6.627, 36.619, 18.784, 47.092) # Example coordinates, adjust as needed\n",
    "\n",
    "# Convert the bounding box to a GeoDataFrame\n",
    "bbox_gdf = gpd.GeoDataFrame({'geometry': [toscana_bounding_box]}, crs=\"EPSG:4326\")\n",
    "\n",
    "\n",
    "# Filter the polygons that intersect with the bounding box\n",
    "toscana_agri = agri[agri.intersects(bbox_gdf.unary_union)]"
   ]
  },
  {
   "cell_type": "markdown",
   "metadata": {},
   "source": [
    "### Export poligons"
   ]
  },
  {
   "cell_type": "code",
   "execution_count": null,
   "metadata": {},
   "outputs": [],
   "source": [
    "agri.to_file(\"dataset/l2022_survey_agri.gpkg\", driver=\"GPKG\")\n",
    "toscana_agri.to_file(\"dataset/l2022_survey_agri_toscana.gpkg\", driver=\"GPKG\")"
   ]
  }
 ],
 "metadata": {
  "kernelspec": {
   "display_name": "crops",
   "language": "python",
   "name": "python3"
  },
  "language_info": {
   "codemirror_mode": {
    "name": "ipython",
    "version": 3
   },
   "file_extension": ".py",
   "mimetype": "text/x-python",
   "name": "python",
   "nbconvert_exporter": "python",
   "pygments_lexer": "ipython3",
   "version": "3.9.6"
  }
 },
 "nbformat": 4,
 "nbformat_minor": 2
}
